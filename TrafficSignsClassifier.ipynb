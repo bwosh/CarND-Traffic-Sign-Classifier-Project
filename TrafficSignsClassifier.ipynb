{
 "cells": [
  {
   "cell_type": "markdown",
   "metadata": {},
   "source": [
    "# Imports"
   ]
  },
  {
   "cell_type": "code",
   "execution_count": 32,
   "metadata": {},
   "outputs": [],
   "source": [
    "import albumentations as a\n",
    "import matplotlib.pyplot as plt\n",
    "import numpy as np\n",
    "import os\n",
    "import pickle\n",
    "import torch\n",
    "import torch.nn as nn\n",
    "\n",
    "from albumentations.pytorch import ToTensor\n",
    "from torch.optim.lr_scheduler import ReduceLROnPlateau\n",
    "from torch.optim import SGD \n",
    "from torch.utils.data import Dataset, DataLoader\n",
    "from tqdm import tqdm_notebook as tqdm\n",
    "\n",
    "from focal_loss import FocalLoss\n",
    "from mish import Mish"
   ]
  },
  {
   "cell_type": "markdown",
   "metadata": {},
   "source": [
    "### Versions of libs"
   ]
  },
  {
   "cell_type": "code",
   "execution_count": 2,
   "metadata": {},
   "outputs": [
    {
     "data": {
      "text/plain": [
       "'1.17.2'"
      ]
     },
     "execution_count": 2,
     "metadata": {},
     "output_type": "execute_result"
    }
   ],
   "source": [
    "np.__version__"
   ]
  },
  {
   "cell_type": "code",
   "execution_count": 3,
   "metadata": {},
   "outputs": [
    {
     "data": {
      "text/plain": [
       "'1.3.0'"
      ]
     },
     "execution_count": 3,
     "metadata": {},
     "output_type": "execute_result"
    }
   ],
   "source": [
    "torch.__version__"
   ]
  },
  {
   "cell_type": "markdown",
   "metadata": {},
   "source": [
    "# Load data"
   ]
  },
  {
   "cell_type": "code",
   "execution_count": 4,
   "metadata": {},
   "outputs": [],
   "source": [
    "data_folder = './traffic-signs-data/'\n",
    "\n",
    "with open(os.path.join(data_folder,'train.p'), mode='rb') as f:\n",
    "    train = pickle.load(f)\n",
    "with open(os.path.join(data_folder,'valid.p'), mode='rb') as f:\n",
    "    valid = pickle.load(f)\n",
    "with open(os.path.join(data_folder,'test.p'), mode='rb') as f:\n",
    "    test = pickle.load(f)"
   ]
  },
  {
   "cell_type": "markdown",
   "metadata": {},
   "source": [
    "# Data exploration"
   ]
  },
  {
   "cell_type": "markdown",
   "metadata": {},
   "source": [
    "Check the stored data"
   ]
  },
  {
   "cell_type": "code",
   "execution_count": 5,
   "metadata": {},
   "outputs": [
    {
     "data": {
      "text/plain": [
       "(dict_keys(['coords', 'labels', 'features', 'sizes']),\n",
       " dict_keys(['coords', 'labels', 'features', 'sizes']),\n",
       " dict_keys(['sizes', 'coords', 'features', 'labels']))"
      ]
     },
     "execution_count": 5,
     "metadata": {},
     "output_type": "execute_result"
    }
   ],
   "source": [
    "train.keys(), valid.keys(), test.keys()"
   ]
  },
  {
   "cell_type": "markdown",
   "metadata": {},
   "source": [
    "Assign varaibles"
   ]
  },
  {
   "cell_type": "code",
   "execution_count": 6,
   "metadata": {},
   "outputs": [],
   "source": [
    "X_train, y_train, coords_train, sizes_train = train['features'], train['labels'], train['coords'], train['sizes']\n",
    "X_valid, y_valid, coords_valid, sizes_valid = valid['features'], valid['labels'], valid['coords'], valid['sizes']\n",
    "X_test, y_test, coords_test, sizes_test = test['features'], test['labels'], test['coords'], test['sizes']"
   ]
  },
  {
   "cell_type": "markdown",
   "metadata": {},
   "source": [
    "Get basic information about the dataset"
   ]
  },
  {
   "cell_type": "code",
   "execution_count": 7,
   "metadata": {},
   "outputs": [
    {
     "name": "stdout",
     "output_type": "stream",
     "text": [
      "Number of training examples = 34799\n",
      "Number of validation examples = 4410\n",
      "Number of testing examples = 12630\n",
      "Image data shape = 32x32, channels=3, dtype=uint8\n",
      "Number of classes = 43\n"
     ]
    }
   ],
   "source": [
    "print(\"Number of training examples =\", X_train.shape[0])\n",
    "print(\"Number of validation examples =\", X_valid.shape[0])\n",
    "print(\"Number of testing examples =\", X_test.shape[0])\n",
    "\n",
    "height, width, channels = X_train.shape[1:]\n",
    "print(f\"Image data shape = {width}x{height}, channels={channels}, dtype={X_train.dtype}\")\n",
    "n_classes = len(set(train['labels']))\n",
    "print(\"Number of classes =\", n_classes)"
   ]
  },
  {
   "cell_type": "markdown",
   "metadata": {},
   "source": [
    "Check sample images"
   ]
  },
  {
   "cell_type": "code",
   "execution_count": 30,
   "metadata": {},
   "outputs": [],
   "source": [
    "# TODO find file with class names"
   ]
  },
  {
   "cell_type": "code",
   "execution_count": 8,
   "metadata": {},
   "outputs": [
    {
     "data": {
      "image/png": "[encoded data removed]",
      "text/plain": [
       "<Figure size 72x72 with 1 Axes>"
      ]
     },
     "metadata": {
      "needs_background": "light"
     },
     "output_type": "display_data"
    },
    {
     "data": {
      "image/png": "[encoded data removed]",
      "text/plain": [
       "<Figure size 72x72 with 1 Axes>"
      ]
     },
     "metadata": {
      "needs_background": "light"
     },
     "output_type": "display_data"
    },
    {
     "data": {
      "image/png": "[encoded data removed]",
      "text/plain": [
       "<Figure size 72x72 with 1 Axes>"
      ]
     },
     "metadata": {
      "needs_background": "light"
     },
     "output_type": "display_data"
    },
    {
     "data": {
      "image/png": "[encoded data removed]",
      "text/plain": [
       "<Figure size 72x72 with 1 Axes>"
      ]
     },
     "metadata": {
      "needs_background": "light"
     },
     "output_type": "display_data"
    }
   ],
   "source": [
    "def preview_image(img, text):\n",
    "    plt.figure(figsize=(1,1))\n",
    "    plt.title(text)\n",
    "    plt.axis('off')\n",
    "    plt.imshow(img)\n",
    "\n",
    "def preview_image_from_dataset(dataset, index):\n",
    "    preview_image(dataset[idx], f\"Index: {index}\")\n",
    "\n",
    "for idx in [123,234,456,678]:\n",
    "    preview_image_from_dataset(X_train, idx)\n",
    "    \n",
    "# TODO generate more images and keep them in grid"
   ]
  },
  {
   "cell_type": "markdown",
   "metadata": {},
   "source": [
    "Check histogram of classes"
   ]
  },
  {
   "cell_type": "code",
   "execution_count": 9,
   "metadata": {},
   "outputs": [
    {
     "data": {
      "image/png": "[encoded data removed]",
      "text/plain": [
       "<Figure size 864x288 with 1 Axes>"
      ]
     },
     "metadata": {
      "needs_background": "light"
     },
     "output_type": "display_data"
    }
   ],
   "source": [
    "plt.figure(figsize=(12,4))\n",
    "plt.title(\"Histogram of classes in dataset\")\n",
    "\n",
    "plt.hist(y_train,bins = n_classes, alpha=0.2, label = 'train')\n",
    "plt.hist(y_test,bins = n_classes, alpha=0.2, label='test')\n",
    "plt.hist(y_valid,bins = n_classes, alpha=0.2, label='valid')\n",
    "\n",
    "plt.legend()\n",
    "pass"
   ]
  },
  {
   "cell_type": "markdown",
   "metadata": {},
   "source": [
    "Similarity of distribution of number of items per class in train/test/valid seems to be good"
   ]
  },
  {
   "cell_type": "markdown",
   "metadata": {},
   "source": [
    "# Preprocessing"
   ]
  },
  {
   "cell_type": "markdown",
   "metadata": {},
   "source": [
    "Trainig and testing use two separate augmentation pipelines.\n",
    "\n",
    "Test augmentation uses only normalization to keep all pixel values in range between -1 and 1.  \n",
    "\n",
    "Training augmentation does the same while adding some rangom transformation to make train dataset more generalized and prevent overfitting to given images."
   ]
  },
  {
   "cell_type": "code",
   "execution_count": 10,
   "metadata": {},
   "outputs": [],
   "source": [
    "train_augmentation = a.Compose([\n",
    "    a.ShiftScaleRotate(shift_limit=0.1, scale_limit=0.3, rotate_limit=20, p=1),\n",
    "    a.RandomBrightness(0.2,p=1),\n",
    "    a.RandomContrast(0.2, p=1),\n",
    "    a.GaussNoise(var_limit=(0,10), p=1),\n",
    "    a.Normalize(\n",
    "        mean=(0.5, 0.5, 0.5),\n",
    "        std=(0.5, 0.5, 0.5)),\n",
    "    ToTensor()\n",
    "])\n",
    "\n",
    "test_augmentation = a.Compose([\n",
    "    a.Normalize(\n",
    "        mean=(0.5, 0.5, 0.5),\n",
    "        std=(0.5, 0.5, 0.5)),\n",
    "    ToTensor()\n",
    "])"
   ]
  },
  {
   "cell_type": "code",
   "execution_count": 29,
   "metadata": {},
   "outputs": [],
   "source": [
    "# TODO sample images from augmentation"
   ]
  },
  {
   "cell_type": "code",
   "execution_count": 11,
   "metadata": {},
   "outputs": [],
   "source": [
    "class TrafficSignsDataset(Dataset):\n",
    "    def __init__(self, features, labels, augmentation):\n",
    "        self.features = features.copy()\n",
    "        self.labels  = labels.copy()\n",
    "        self.augmentation = augmentation\n",
    "        \n",
    "    def __len__(self):\n",
    "        return len(self.labels)\n",
    "        \n",
    "    def __getitem__(self, index, noaug=False):\n",
    "        img = self.features[index]\n",
    "        if noaug:\n",
    "            img = img\n",
    "        else:\n",
    "            img = self.augmentation(image=img)['image']\n",
    "        \n",
    "        label = int(self.labels[index])\n",
    "        \n",
    "        return img, label"
   ]
  },
  {
   "cell_type": "code",
   "execution_count": 12,
   "metadata": {},
   "outputs": [],
   "source": [
    "train_dataset = TrafficSignsDataset(X_train, y_train, train_augmentation)\n",
    "test_dataset = TrafficSignsDataset(X_test, y_test, test_augmentation)\n",
    "valid_dataset = TrafficSignsDataset(X_valid, y_valid, test_augmentation)"
   ]
  },
  {
   "cell_type": "markdown",
   "metadata": {},
   "source": [
    "Check if datasets work:"
   ]
  },
  {
   "cell_type": "code",
   "execution_count": 13,
   "metadata": {},
   "outputs": [
    {
     "data": {
      "image/png": "[encoded data removed]",
      "text/plain": [
       "<Figure size 72x72 with 1 Axes>"
      ]
     },
     "metadata": {
      "needs_background": "light"
     },
     "output_type": "display_data"
    }
   ],
   "source": [
    "img, label = train_dataset.__getitem__(123, noaug=True)\n",
    "preview_image(img, f\"Label: {label}\")"
   ]
  },
  {
   "cell_type": "markdown",
   "metadata": {},
   "source": [
    "# Model"
   ]
  },
  {
   "cell_type": "markdown",
   "metadata": {},
   "source": [
    "Used model is simple having (Conv,Pool,Activate, BatchNorm) sequences repeated 4 times.  \n",
    "After those classification layers (2 Linear separated by Dropout) are used.\n",
    "\n",
    "There were tests done with state-of-the-art models yt there were inaccurate for that small input as 32x32 where most of them are trained and measured with 224x224 resolution or more. There were two options to choose:\n",
    "- scale up images\n",
    "- use simeplier model  \n",
    "Second option was used to keep training faster.  \n",
    "Model below weights only about 16MB when trained.  "
   ]
  },
  {
   "cell_type": "markdown",
   "metadata": {},
   "source": [
    "Model uses activation function from \"Mish: A Self Regularized Non-Monotonic Neural Activation Function\"  \n",
    "Link to paper: https://arxiv.org/abs/1908.08681v1  \n",
    "Implementation for PyTorch aken from https://github.com/lessw2020/mish  "
   ]
  },
  {
   "cell_type": "code",
   "execution_count": 15,
   "metadata": {},
   "outputs": [],
   "source": [
    "class TSModel(nn.Module):\n",
    "    def __init__(self, n_classes):\n",
    "        super(TSModel, self).__init__()\n",
    "        self.feats = nn.Sequential(\n",
    "            nn.Conv2d(3, 32, 5, 1, 1),\n",
    "            nn.MaxPool2d(2, 2),\n",
    "            Mish(),\n",
    "            nn.BatchNorm2d(32),\n",
    "\n",
    "            nn.Conv2d(32, 64, 3,  1, 1),\n",
    "            Mish(),\n",
    "            nn.BatchNorm2d(64),\n",
    "\n",
    "            nn.Conv2d(64, 64, 3,  1, 1),\n",
    "            nn.MaxPool2d(2, 2),\n",
    "            Mish(),\n",
    "            nn.BatchNorm2d(64),\n",
    "\n",
    "            nn.Conv2d(64, 128, 3, 1, 1),\n",
    "            nn.MaxPool2d(2, 2),\n",
    "            Mish(),\n",
    "            nn.BatchNorm2d(128)\n",
    "        )\n",
    "        self.avg_pool = nn.AdaptiveAvgPool2d(1)\n",
    "        self.fc = nn.Linear(128,128)\n",
    "        self.mish = Mish()\n",
    "        self.dropout = nn.Dropout(0.5)\n",
    "        self.classifier = nn.Linear(128, n_classes)\n",
    "\n",
    "    def forward(self, inputs):\n",
    "        out = self.feats(inputs)\n",
    "        out = self.avg_pool(out)\n",
    "        out = out.view(-1, 128)\n",
    "        out = self.fc(out)\n",
    "        out = self.mish(out)\n",
    "        out = self.dropout(out)\n",
    "        out = self.classifier(out)\n",
    "\n",
    "        return out\n",
    "model=TSModel(n_classes)"
   ]
  },
  {
   "cell_type": "markdown",
   "metadata": {},
   "source": [
    "Checking if sample outut has proper shape"
   ]
  },
  {
   "cell_type": "code",
   "execution_count": 16,
   "metadata": {},
   "outputs": [
    {
     "data": {
      "text/plain": [
       "torch.Size([1, 43])"
      ]
     },
     "execution_count": 16,
     "metadata": {},
     "output_type": "execute_result"
    }
   ],
   "source": [
    "dummy = torch.zeros((1,3,32,32))\n",
    "model.eval()\n",
    "model(dummy).shape"
   ]
  },
  {
   "cell_type": "markdown",
   "metadata": {},
   "source": [
    "# Training"
   ]
  },
  {
   "cell_type": "markdown",
   "metadata": {},
   "source": [
    "### Train code"
   ]
  },
  {
   "cell_type": "code",
   "execution_count": 17,
   "metadata": {},
   "outputs": [],
   "source": [
    "class MetricsAggregator:\n",
    "    def __init__(self):\n",
    "        self.epoch_index = -1\n",
    "        self.loss_history = {}\n",
    "        self.accuracy_history = {}\n",
    "    \n",
    "    def epoch_start(self):\n",
    "        self.epoch_index += 1\n",
    "        \n",
    "    def __add_loss(self, loss):\n",
    "        if self.epoch_index not in self.loss_history:\n",
    "            self.loss_history[self.epoch_index] = []\n",
    "        self.loss_history[self.epoch_index].append(loss)\n",
    "        \n",
    "    def __add_acc(self, acc):\n",
    "        if self.epoch_index not in self.accuracy_history:\n",
    "            self.accuracy_history[self.epoch_index] = []\n",
    "        self.accuracy_history[self.epoch_index].append(acc)\n",
    "        \n",
    "    def add(self, loss, pred:np.ndarray, gt:np.ndarray):\n",
    "        self.__add_loss(loss)\n",
    "        \n",
    "        pred = np.argmax(pred,axis=1)\n",
    "        acc = np.sum(pred==gt)/pred.shape[0]\n",
    "        self.__add_acc(acc)\n",
    "    \n",
    "    def get_mean_loss(self, samples=None):\n",
    "        if samples is None:\n",
    "            return np.mean(self.loss_history[self.epoch_index])\n",
    "        return np.mean(self.loss_history[self.epoch_index][-samples:])\n",
    "    \n",
    "    def get_mean_acc(self, samples=None):\n",
    "        if samples is None:\n",
    "            return np.mean(self.accuracy_history[self.epoch_index])\n",
    "        return np.mean(self.accuracy_history[self.epoch_index][-samples:])\n",
    "    \n",
    "    def get_epochs_losses(self):\n",
    "        result = []\n",
    "        for i in range(self.epoch_index+1):\n",
    "            result.append(np.mean(self.loss_history[i]))\n",
    "        return result\n",
    "    \n",
    "    def get_epochs_acc(self):\n",
    "        result = []\n",
    "        for i in range(self.epoch_index+1):\n",
    "            result.append(np.mean(self.accuracy_history[i]))\n",
    "        return result"
   ]
  },
  {
   "cell_type": "code",
   "execution_count": 18,
   "metadata": {},
   "outputs": [],
   "source": [
    "def train(net, loader, aggregator, criterion, device, progress_bar):\n",
    "    aggregator.epoch_start()\n",
    "    net.train()\n",
    "    \n",
    "    for inputs, labels in loader:\n",
    "        inputs, labels = inputs.to(device), labels.to(device)\n",
    "\n",
    "        optimizer.zero_grad()\n",
    "        outputs = net(inputs)\n",
    "        loss = criterion(outputs, labels)\n",
    "        loss.backward()\n",
    "        optimizer.step()\n",
    "\n",
    "        aggregator.add(float(loss.item()), outputs.cpu().detach().numpy(), labels.cpu().detach().numpy())\n",
    "        batch_loss = aggregator.get_mean_loss(1)\n",
    "        total_loss = aggregator.get_mean_loss()\n",
    "        batch_acc = aggregator.get_mean_acc(1)\n",
    "        total_acc = aggregator.get_mean_acc()\n",
    "        progress_bar.update(1)"
   ]
  },
  {
   "cell_type": "code",
   "execution_count": 19,
   "metadata": {},
   "outputs": [],
   "source": [
    "def test(net, loader, aggregator, criterion, device):\n",
    "    net.eval()\n",
    "    aggregator.epoch_start()\n",
    "    with torch.no_grad():\n",
    "        for inputs, labels in loader:\n",
    "            inputs, labels = inputs.to(device), labels.to(device)\n",
    "\n",
    "            outputs = net(inputs)\n",
    "            loss = criterion(outputs, labels)\n",
    "\n",
    "            aggregator.add(float(loss.item()), outputs.cpu().detach().numpy(), labels.cpu().detach().numpy())\n",
    "            batch_loss = aggregator.get_mean_loss(1)\n",
    "            total_loss = aggregator.get_mean_loss()\n",
    "            batch_acc = aggregator.get_mean_acc(1)\n",
    "            total_acc = aggregator.get_mean_acc()\n"
   ]
  },
  {
   "cell_type": "markdown",
   "metadata": {},
   "source": [
    "### Training execution"
   ]
  },
  {
   "cell_type": "code",
   "execution_count": 20,
   "metadata": {},
   "outputs": [],
   "source": [
    "batch_size = 256\n",
    "num_workers = 12\n",
    "train_dataloader = DataLoader(train_dataset,batch_size=batch_size, shuffle=True, num_workers=num_workers)\n",
    "post_train_dataloader = DataLoader(train_dataset,batch_size=batch_size, shuffle=False, num_workers=num_workers)\n",
    "test_dataloader = DataLoader(test_dataset,batch_size=batch_size, shuffle=False, num_workers=num_workers)\n",
    "valid_dataloader = DataLoader(valid_dataset,batch_size=batch_size, shuffle=False, num_workers=num_workers)"
   ]
  },
  {
   "cell_type": "code",
   "execution_count": 21,
   "metadata": {},
   "outputs": [],
   "source": [
    "running_train_metrics = MetricsAggregator()\n",
    "train_metrics = MetricsAggregator()\n",
    "val_metrics = MetricsAggregator()"
   ]
  },
  {
   "cell_type": "code",
   "execution_count": 22,
   "metadata": {},
   "outputs": [],
   "source": [
    "best_acc = 0\n",
    "device = \"cuda\"\n",
    "model = model.to(device)"
   ]
  },
  {
   "cell_type": "markdown",
   "metadata": {},
   "source": [
    "Training uses Focal Loss function described in https://arxiv.org/pdf/1708.02002.pdf  \n",
    "The implementation was taken from https://github.com/clcarwin/focal_loss_pytorch"
   ]
  },
  {
   "cell_type": "code",
   "execution_count": 23,
   "metadata": {},
   "outputs": [],
   "source": [
    "epochs = 20\n",
    "criterion = FocalLoss()\n",
    "optimizer = SGD(model.parameters(), lr=0.01, momentum=0.9)\n",
    "scheduler = ReduceLROnPlateau(optimizer, patience=2,  min_lr=1e-8, factor=0.5)"
   ]
  },
  {
   "cell_type": "code",
   "execution_count": 24,
   "metadata": {
    "scrolled": false
   },
   "outputs": [
    {
     "data": {
      "application/vnd.jupyter.widget-view+json": {
       "model_id": "f802c10aaa51421bb6899a219470e057",
       "version_major": 2,
       "version_minor": 0
      },
      "text/plain": [
       "HBox(children=(IntProgress(value=0, description='Training', max=2720, style=ProgressStyle(description_width='i…"
      ]
     },
     "metadata": {},
     "output_type": "display_data"
    },
    {
     "name": "stderr",
     "output_type": "stream",
     "text": [
      "/home/bmatuszewki/Projects/CarND-Traffic-Sign-Classifier-Project/focal_loss.py:22: UserWarning: Implicit dimension choice for log_softmax has been deprecated. Change the call to include dim=X as an argument.\n",
      "  logpt = F.log_softmax(input)\n"
     ]
    },
    {
     "name": "stdout",
     "output_type": "stream",
     "text": [
      "[E1] TrainAcc: 0.295 ValidAcc(saved): 0.260\n",
      "[E2] TrainAcc: 0.383 ValidAcc(saved): 0.330\n",
      "[E3] TrainAcc: 0.537 ValidAcc(saved): 0.531\n",
      "[E4] TrainAcc: 0.589 ValidAcc(saved): 0.575\n",
      "[E5] TrainAcc: 0.774 ValidAcc(saved): 0.736\n",
      "[E6] TrainAcc: 0.837 ValidAcc(saved): 0.782\n",
      "[E7] TrainAcc: 0.900 ValidAcc(saved): 0.879\n",
      "[E8] TrainAcc: 0.932 ValidAcc(saved): 0.916\n",
      "[E9] TrainAcc: 0.946 ValidAcc(saved): 0.947\n",
      "[E10] TrainAcc: 0.958 ValidAcc(saved): 0.948\n",
      "[E11] TrainAcc: 0.944 ValidAcc: 0.934\n",
      "[E12] TrainAcc: 0.966 ValidAcc(saved): 0.963\n",
      "[E13] TrainAcc: 0.959 ValidAcc: 0.950\n",
      "[E14] TrainAcc: 0.974 ValidAcc(saved): 0.969\n",
      "[E15] TrainAcc: 0.969 ValidAcc: 0.956\n",
      "[E16] TrainAcc: 0.982 ValidAcc: 0.955\n",
      "[E17] TrainAcc: 0.974 ValidAcc: 0.967\n",
      "[E18] TrainAcc: 0.987 ValidAcc(saved): 0.972\n",
      "[E19] TrainAcc: 0.992 ValidAcc: 0.965\n",
      "[E20] TrainAcc: 0.989 ValidAcc: 0.968\n",
      "\n"
     ]
    }
   ],
   "source": [
    "with tqdm(desc='Training', total=epochs*len(train_dataloader)) as p:\n",
    "    for epoch in range(epochs):\n",
    "        train(model, train_dataloader, running_train_metrics, criterion, device, p)\n",
    "        test(model, train_dataloader, train_metrics, criterion, device)\n",
    "        test(model, valid_dataloader, val_metrics, criterion, device)\n",
    "        \n",
    "        # Save best model\n",
    "        isbest=''\n",
    "        if( val_metrics.get_mean_acc() > best_acc):\n",
    "            best_acc = val_metrics.get_mean_acc()\n",
    "            isbest = '(saved)'\n",
    "            torch.save(model.state_dict(), \"best.pth\")\n",
    "            \n",
    "        print(f\"[E{epoch+1}] TrainAcc: {train_metrics.get_mean_acc():0.3f} ValidAcc{isbest}: {val_metrics.get_mean_acc():0.3f}\")\n",
    "                \n",
    "        scheduler.step(val_metrics.get_mean_loss())\n",
    "        p.update(1)"
   ]
  },
  {
   "cell_type": "markdown",
   "metadata": {},
   "source": [
    "### Post train checks"
   ]
  },
  {
   "cell_type": "code",
   "execution_count": 25,
   "metadata": {},
   "outputs": [
    {
     "name": "stdout",
     "output_type": "stream",
     "text": [
      "Loaded model.\n",
      "Valid loss: 0.11347928943319453 Valid acc: 0.9715187978927202\n",
      "Test loss: 0.11618406601250171 Test acc: 0.9656322674418605\n"
     ]
    }
   ],
   "source": [
    "if os.path.isfile('best.pth'):\n",
    "    print(\"Loaded model.\")\n",
    "    model.load_state_dict(torch.load('best.pth'))\n",
    "    \n",
    "model = model.to('cuda')\n",
    "\n",
    "final_val_metrics = MetricsAggregator()\n",
    "final_test_metrics = MetricsAggregator()\n",
    "\n",
    "test(model, valid_dataloader, final_val_metrics, criterion, device)\n",
    "test(model, test_dataloader, final_test_metrics, criterion, device)\n",
    "\n",
    "print(f\"Valid loss: {final_val_metrics.get_mean_loss()} Valid acc: {final_val_metrics.get_mean_acc()}\")\n",
    "print(f\"Test loss: {final_test_metrics.get_mean_loss()} Test acc: {final_test_metrics.get_mean_acc()}\")"
   ]
  },
  {
   "cell_type": "markdown",
   "metadata": {},
   "source": [
    "# Visualization"
   ]
  },
  {
   "cell_type": "markdown",
   "metadata": {},
   "source": [
    "### Training/validation loss curves"
   ]
  },
  {
   "cell_type": "code",
   "execution_count": 26,
   "metadata": {},
   "outputs": [
    {
     "data": {
      "text/plain": [
       "<matplotlib.legend.Legend at 0x7fa748c22860>"
      ]
     },
     "execution_count": 26,
     "metadata": {},
     "output_type": "execute_result"
    },
    {
     "data": {
      "image/png": "[encoded data removed]",
      "text/plain": [
       "<Figure size 864x360 with 1 Axes>"
      ]
     },
     "metadata": {
      "needs_background": "light"
     },
     "output_type": "display_data"
    }
   ],
   "source": [
    "plt.figure(figsize=(12,5))\n",
    "plt.title(\"Loss over epochs\")\n",
    "plt.plot(val_metrics.get_epochs_losses(), label='Val')\n",
    "plt.plot(train_metrics.get_epochs_losses(), label='Train')\n",
    "plt.legend()"
   ]
  },
  {
   "cell_type": "code",
   "execution_count": 27,
   "metadata": {},
   "outputs": [
    {
     "data": {
      "text/plain": [
       "<matplotlib.legend.Legend at 0x7fa748e8fdd8>"
      ]
     },
     "execution_count": 27,
     "metadata": {},
     "output_type": "execute_result"
    },
    {
     "data": {
      "image/png": "[encoded data removed]",
      "text/plain": [
       "<Figure size 864x360 with 1 Axes>"
      ]
     },
     "metadata": {
      "needs_background": "light"
     },
     "output_type": "display_data"
    }
   ],
   "source": [
    "plt.figure(figsize=(12,5))\n",
    "plt.title(\"Accuracy over epochs\")\n",
    "plt.plot(val_metrics.get_epochs_acc(), label='Val')\n",
    "plt.plot(train_metrics.get_epochs_acc(), label='Train')\n",
    "plt.legend()"
   ]
  },
  {
   "cell_type": "code",
   "execution_count": 31,
   "metadata": {},
   "outputs": [],
   "source": [
    "# TODO plot confusion matrix"
   ]
  },
  {
   "cell_type": "markdown",
   "metadata": {},
   "source": [
    "### External sample traffic signs"
   ]
  },
  {
   "cell_type": "code",
   "execution_count": 28,
   "metadata": {},
   "outputs": [],
   "source": [
    "# TODO get sample images from the net and classify them"
   ]
  }
 ],
 "metadata": {
  "kernelspec": {
   "display_name": "Python 3",
   "language": "python",
   "name": "python3"
  },
  "language_info": {
   "codemirror_mode": {
    "name": "ipython",
    "version": 3
   },
   "file_extension": ".py",
   "mimetype": "text/x-python",
   "name": "python",
   "nbconvert_exporter": "python",
   "pygments_lexer": "ipython3",
   "version": "3.6.8"
  }
 },
 "nbformat": 4,
 "nbformat_minor": 2
}
